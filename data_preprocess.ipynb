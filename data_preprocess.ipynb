{
 "cells": [
  {
   "cell_type": "code",
   "execution_count": 5,
   "metadata": {
    "collapsed": true
   },
   "outputs": [],
   "source": [
    "import csv\n",
    "import chardet\n",
    "import numpy as np\n",
    "import h5py\n",
    "import pickle\n",
    "import gensim\n",
    "import preprocessor as p"
   ]
  },
  {
   "cell_type": "markdown",
   "metadata": {},
   "source": [
    "# data clean\n"
   ]
  },
  {
   "cell_type": "code",
   "execution_count": 3,
   "metadata": {
    "collapsed": true
   },
   "outputs": [],
   "source": [
    "pos_datas = np.load(\"../../data/twitter/tech_not/pos.npy\")\n",
    "neg_datas = np.load(\"../../data/twitter/tech_not/neg.npy\")"
   ]
  },
  {
   "cell_type": "code",
   "execution_count": 7,
   "metadata": {
    "collapsed": true
   },
   "outputs": [],
   "source": [
    "for i, _ in enumerate(pos_datas):\n",
    "    pos_datas[i][1] = p.clean(pos_datas[i][1])"
   ]
  },
  {
   "cell_type": "code",
   "execution_count": 8,
   "metadata": {
    "collapsed": true
   },
   "outputs": [],
   "source": [
    "for i, _ in enumerate(pos_datas):\n",
    "    neg_datas[i][1] = p.clean(neg_datas[i][1])"
   ]
  },
  {
   "cell_type": "code",
   "execution_count": null,
   "metadata": {
    "collapsed": true
   },
   "outputs": [],
   "source": [
    "np.save(\"../../data/twitter/tech_not/pos_cleaned.npy\",pos_datas)\n",
    "np.save(\"../../data/twitter/tech_not/neg_cleaned.npy\",neg_datas)"
   ]
  },
  {
   "cell_type": "code",
   "execution_count": 28,
   "metadata": {
    "collapsed": true
   },
   "outputs": [],
   "source": [
    "neg = np.load(\"../../data/twitter/tech_not/neg_cleaned.npy\")\n"
   ]
  },
  {
   "cell_type": "code",
   "execution_count": 38,
   "metadata": {
    "collapsed": true
   },
   "outputs": [],
   "source": [
    "\n",
    "neg  = np.delete(neg,44685,0)\n"
   ]
  },
  {
   "cell_type": "code",
   "execution_count": 34,
   "metadata": {},
   "outputs": [
    {
     "data": {
      "text/plain": [
       "array(['', ''], dtype='<U330')"
      ]
     },
     "execution_count": 34,
     "metadata": {},
     "output_type": "execute_result"
    }
   ],
   "source": [
    "neg[44685]"
   ]
  },
  {
   "cell_type": "code",
   "execution_count": 94,
   "metadata": {
    "collapsed": true
   },
   "outputs": [],
   "source": [
    "## 文件编码更改\n",
    "for i in range(1,11):\n",
    "    with open(\"../../data/twitter/tech_not/\"+str(i)+\".csv\",'rb') as fin:\n",
    "        with open(\"../../data/twitter/tech_not/0\"+str(i)+\".csv\",'w') as fout:\n",
    "            for line in fin.readlines():\n",
    "                fout.write(str(line.decode('gbk',errors = 'ignore').encode('utf-8'), encoding =\"utf\"))\n",
    "        \n",
    "    "
   ]
  },
  {
   "cell_type": "code",
   "execution_count": 102,
   "metadata": {
    "collapsed": true
   },
   "outputs": [],
   "source": [
    "csv_ins = []\n",
    "for i in range(1,11):\n",
    "    with open(\"../../data/twitter/tech_not/0\"+str(i)+\".csv\",) as f:\n",
    "        csv_ins.append(list(csv.reader(f)))"
   ]
  },
  {
   "cell_type": "code",
   "execution_count": 103,
   "metadata": {
    "collapsed": true
   },
   "outputs": [],
   "source": [
    "#去除列表名\n",
    "csv_ins = [ f[1:] for f in csv_ins]"
   ]
  },
  {
   "cell_type": "code",
   "execution_count": 104,
   "metadata": {
    "collapsed": true
   },
   "outputs": [],
   "source": [
    "csv_ins[1:] = [ [l[::2] for l in f] for f in csv_ins[1:]]   #去除中文"
   ]
  },
  {
   "cell_type": "code",
   "execution_count": 106,
   "metadata": {
    "collapsed": true
   },
   "outputs": [],
   "source": [
    "csv_in = []\n",
    "for c in csv_ins:\n",
    "    csv_in.extend(c)"
   ]
  },
  {
   "cell_type": "code",
   "execution_count": 111,
   "metadata": {
    "collapsed": true
   },
   "outputs": [],
   "source": [
    "np.save(\"../../data/twitter/tech_not/all.npy\", csv_in)"
   ]
  },
  {
   "cell_type": "code",
   "execution_count": null,
   "metadata": {
    "collapsed": true
   },
   "outputs": [],
   "source": []
  },
  {
   "cell_type": "code",
   "execution_count": 112,
   "metadata": {
    "collapsed": true
   },
   "outputs": [],
   "source": [
    "dataset = np.load(\"../../data/twitter/tech_not/all.npy\")"
   ]
  },
  {
   "cell_type": "code",
   "execution_count": 118,
   "metadata": {
    "collapsed": true
   },
   "outputs": [],
   "source": [
    "pos_sample = []\n",
    "neg_sample = []\n",
    "\n",
    "for s in dataset:\n",
    "    pos_sample.append(s) if s[0] == '1' else neg_sample.append(s)\n",
    "        \n",
    "        "
   ]
  },
  {
   "cell_type": "code",
   "execution_count": 122,
   "metadata": {
    "collapsed": true
   },
   "outputs": [],
   "source": [
    "np.save(\"../../data/twitter/tech_not/pos.npy\", pos_sample)\n",
    "np.save(\"../../data/twitter/tech_not/neg.npy\", neg_sample)"
   ]
  },
  {
   "cell_type": "markdown",
   "metadata": {
    "collapsed": true
   },
   "source": [
    "# 词向量处理"
   ]
  },
  {
   "cell_type": "code",
   "execution_count": 13,
   "metadata": {
    "collapsed": true
   },
   "outputs": [],
   "source": [
    "word_to_vec_dict = {}\n",
    "with open(\"../../data/embedding/twitter/glove.twitter.27B.50d.txt\",'r') as f:\n",
    "    done = 0\n",
    "    while not done:\n",
    "        line = f.readline()\n",
    "        if(line != ''):\n",
    "            line = line.strip().split()\n",
    "            word_to_vec_dict[line[0]] = np.array(line[1:],dtype=np.float64)\n",
    "        else:\n",
    "            done = 1\n",
    "    \n",
    "    #readlines读取到迭代器中 read 读取整个文件不分行"
   ]
  },
  {
   "cell_type": "code",
   "execution_count": 5,
   "metadata": {},
   "outputs": [
    {
     "data": {
      "text/plain": [
       "array(['1.2294', '-0.17672', '-1.0471', '0.51638', '0.44163', '-0.69933',\n",
       "       '0.90977', '-0.731', '0.21802', '-0.98615', '0.015338', '0.079548',\n",
       "       '-2.4102', '-0.89993', '-0.32818', '-0.29624', '1.0269', '0.16989',\n",
       "       '0.28483', '-0.63194', '-0.13409', '-0.01479', '0.187',\n",
       "       '-0.026707', '-1.027', '-0.7028', '0.6859', '-0.61898', '0.74486',\n",
       "       '1.0477', '-0.65797', '-0.20115', '0.12543', '-1.3197', '0.46517',\n",
       "       '-0.4721', '0.39479', '-0.36435', '-1.5743', '-0.25239', '-1.6175',\n",
       "       '0.34428', '-0.52253', '-0.094987', '-0.54107', '-0.79928',\n",
       "       '-0.44825', '-0.14613', '-0.52217', '-0.89081'], dtype='<U9')"
      ]
     },
     "execution_count": 5,
     "metadata": {},
     "output_type": "execute_result"
    }
   ],
   "source": [
    "word_to_vec_dict['user']"
   ]
  },
  {
   "cell_type": "code",
   "execution_count": 3,
   "metadata": {
    "collapsed": true
   },
   "outputs": [],
   "source": [
    "np.save(\"../../data/embedding/twitter/glove.50d.npy\", word_to_vec_dict)"
   ]
  },
  {
   "cell_type": "markdown",
   "metadata": {
    "collapsed": true
   },
   "source": [
    "# modify glove  word 0.45973"
   ]
  },
  {
   "cell_type": "code",
   "execution_count": 8,
   "metadata": {
    "collapsed": true
   },
   "outputs": [],
   "source": [
    "with open(\"../../data/embedding/glove.twitter.27B.50d.txt\",'r',encoding='utf8') as f:\n",
    "    with open(\"../../data/embedding/glove.twitter.27B.50d.1.txt\",'w',encoding='utf8') as w:\n",
    "        out_buffer=[]\n",
    "        for line in f:\n",
    "            if line.split()[0] == '0.45973':\n",
    "                continue\n",
    "            out_buffer.append(line)\n",
    "\n",
    "        w.writelines(out_buffer)\n"
   ]
  },
  {
   "cell_type": "code",
   "execution_count": 27,
   "metadata": {},
   "outputs": [
    {
     "name": "stdout",
     "output_type": "stream",
     "text": [
      "CPU times: user 984 ms, sys: 65.3 ms, total: 1.05 s\n",
      "Wall time: 1.06 s\n"
     ]
    }
   ],
   "source": [
    "%%time\n",
    "with open(\"../../data/embedding/twitter/glove.twitter.27B.50d.txt\",'r') as f:\n",
    "    i=0\n",
    "    for line in f.readlines():\n",
    "        \n",
    "            print(line)\n",
    "            print(line.split())\n",
    "            print(len(line.split()))\n",
    "        i += 1"
   ]
  },
  {
   "cell_type": "code",
   "execution_count": 15,
   "metadata": {},
   "outputs": [
    {
     "name": "stdout",
     "output_type": "stream",
     "text": [
      "1193514\n",
      "1193513\n"
     ]
    }
   ],
   "source": [
    "\n",
    "with open(\"../../data/embedding/glove.twitter.27B.50d.txt\",'r',encoding='utf8') as f:\n",
    "    with open(\"../../data/embedding/glove.twitter.27B.50d.1.txt\",'r',encoding='utf8') as f2:\n",
    "        \n",
    "        print(len(f.readlines()))\n",
    "        print(len(f2.readlines()))\n",
    "          \n",
    "        \n",
    "       "
   ]
  },
  {
   "cell_type": "code",
   "execution_count": null,
   "metadata": {
    "collapsed": true
   },
   "outputs": [],
   "source": []
  }
 ],
 "metadata": {
  "kernelspec": {
   "display_name": "Python 3",
   "language": "python",
   "name": "python3"
  },
  "language_info": {
   "codemirror_mode": {
    "name": "ipython",
    "version": 3
   },
   "file_extension": ".py",
   "mimetype": "text/x-python",
   "name": "python",
   "nbconvert_exporter": "python",
   "pygments_lexer": "ipython3",
   "version": "3.6.2"
  }
 },
 "nbformat": 4,
 "nbformat_minor": 2
}
