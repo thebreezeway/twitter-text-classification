{
 "cells": [
  {
   "cell_type": "code",
   "execution_count": 117,
   "metadata": {
    "collapsed": true
   },
   "outputs": [],
   "source": [
    "\n",
    "\n",
    "import numpy as np\n",
    "import h5py\n",
    "\n",
    "import preprocessor as p\n",
    "import os"
   ]
  },
  {
   "cell_type": "code",
   "execution_count": 118,
   "metadata": {
    "collapsed": true
   },
   "outputs": [],
   "source": [
    "def open_file_clean_url_replace_hashtag(path):\n",
    "    with open(path, 'r') as raw_data ,open(os.path.splitext(path)[0] + '.cleaned.txt', 'w') as out_data:\n",
    "        for line in raw_data:\n",
    "            out_data.write(p.clean(replace_hashtags(line))+'\\n')"
   ]
  },
  {
   "cell_type": "code",
   "execution_count": 119,
   "metadata": {
    "collapsed": true
   },
   "outputs": [],
   "source": [
    "def replace_hashtags(tweet):\n",
    "    \n",
    "    p.set_options(p.OPT.MENTION, p.OPT.HASHTAG, p.OPT.URL, p.OPT.RESERVED)\n",
    "    t=p.parse(tweet)\n",
    "    if t.hashtags:\n",
    "        for i in t.hashtags:\n",
    "            tweet = tweet[:i.start_index] + ' ' + tweet[i.start_index+1:]\n",
    "\n",
    "    return tweet\n",
    "\n",
    "def clean_url_replace_hashtag(tweet):\n",
    "    return p.clean(replace_hashtags(tweet))"
   ]
  },
  {
   "cell_type": "code",
   "execution_count": 115,
   "metadata": {
    "collapsed": true
   },
   "outputs": [],
   "source": [
    "open_file_clean_url_replace_hashtag('../../data/twitter/6s8c/pos_14202_train.txt')"
   ]
  },
  {
   "cell_type": "code",
   "execution_count": 116,
   "metadata": {
    "collapsed": true
   },
   "outputs": [],
   "source": [
    "open_file_clean_url_replace_hashtag('../../data/twitter/6s8c/neg_14202_train.txt')"
   ]
  },
  {
   "cell_type": "code",
   "execution_count": 120,
   "metadata": {},
   "outputs": [
    {
     "data": {
      "text/plain": [
       "'reserved_words'"
      ]
     },
     "execution_count": 120,
     "metadata": {},
     "output_type": "execute_result"
    }
   ],
   "source": [
    "clean_url_replace_hashtag"
   ]
  },
  {
   "cell_type": "code",
   "execution_count": null,
   "metadata": {
    "collapsed": true
   },
   "outputs": [],
   "source": []
  }
 ],
 "metadata": {
  "kernelspec": {
   "display_name": "Python 3",
   "language": "python",
   "name": "python3"
  },
  "language_info": {
   "codemirror_mode": {
    "name": "ipython",
    "version": 3
   },
   "file_extension": ".py",
   "mimetype": "text/x-python",
   "name": "python",
   "nbconvert_exporter": "python",
   "pygments_lexer": "ipython3",
   "version": "3.6.2"
  }
 },
 "nbformat": 4,
 "nbformat_minor": 2
}
