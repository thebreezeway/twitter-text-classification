{
 "cells": [
  {
   "cell_type": "code",
   "execution_count": 109,
   "metadata": {},
   "outputs": [],
   "source": [
    "import csv\n",
    "import chardet\n",
    "import numpy as np\n",
    "import h5py\n",
    "import pickle\n",
    "import gensim\n",
    "import preprocessor as p\n",
    "import os"
   ]
  },
  {
   "cell_type": "code",
   "execution_count": 113,
   "metadata": {
    "collapsed": true
   },
   "outputs": [],
   "source": [
    "def open_file_clean_url_replace_hashtag(path):\n",
    "    with open(path, 'r') as raw_data ,open(os.path.splitext(path)[0] + '.cleaned.txt', 'w') as out_data:\n",
    "        for line in raw_data:\n",
    "            out_data.write(p.clean(replace_hashtags(line))+'\\n')"
   ]
  },
  {
   "cell_type": "code",
   "execution_count": 114,
   "metadata": {},
   "outputs": [],
   "source": [
    "def replace_hashtags(tweet):\n",
    "    \n",
    "    p.set_options(p.OPT.MENTION, p.OPT.HASHTAG, p.OPT.URL, p.OPT.RESERVED)\n",
    "    t=p.parse(tweet)\n",
    "    if t.hashtags:\n",
    "        for i in t.hashtags:\n",
    "            tweet = tweet[:i.start_index] + ' ' + tweet[i.start_index+1:]\n",
    "\n",
    "    return tweet"
   ]
  },
  {
   "cell_type": "code",
   "execution_count": 115,
   "metadata": {},
   "outputs": [],
   "source": [
    "open_file_clean_url_replace_hashtag('../../data/twitter/6s8c/pos_14202_train.txt')"
   ]
  },
  {
   "cell_type": "code",
   "execution_count": 116,
   "metadata": {
    "collapsed": true
   },
   "outputs": [],
   "source": [
    "open_file_clean_url_replace_hashtag('../../data/twitter/6s8c/neg_14202_train.txt')"
   ]
  }
 ],
 "metadata": {
  "kernelspec": {
   "display_name": "Python 3",
   "language": "python",
   "name": "python3"
  },
  "language_info": {
   "codemirror_mode": {
    "name": "ipython",
    "version": 3
   },
   "file_extension": ".py",
   "mimetype": "text/x-python",
   "name": "python",
   "nbconvert_exporter": "python",
   "pygments_lexer": "ipython3",
   "version": "3.6.2"
  }
 },
 "nbformat": 4,
 "nbformat_minor": 2
}
